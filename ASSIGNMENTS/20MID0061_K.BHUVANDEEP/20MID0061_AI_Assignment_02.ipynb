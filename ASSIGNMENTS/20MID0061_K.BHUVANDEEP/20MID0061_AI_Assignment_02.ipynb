{
 "cells": [
  {
   "cell_type": "markdown",
   "metadata": {
    "id": "U7Gpnux5Thq4"
   },
   "source": [
    "## K Bhuvandeep\n",
    "## 20MID0061\n",
    "## VIT VELLORE\n",
    "## SMART BRIDGE AI ASSIGNMENT2"
   ]
  },
  {
   "cell_type": "markdown",
   "metadata": {
    "id": "LDEjyoiDT39-"
   },
   "source": [
    "## This project aims to analyze the relationship between various medical parameters and drug effectiveness. The dataset consists of patient information, \n",
    "##including age, sex, blood pressure levels (BP), cholesterol levels, sodium-to-potassium ratio (Na_to_K), drug type, and corresponding labels. The goal is to develop a model that can accurately predict the class or category of a given drug based on its features."
   ]
  },
  {
   "cell_type": "markdown",
   "metadata": {
    "id": "U-8l1kdKUD8g"
   },
   "source": [
    "## Task 1: Read the dataset and do data pre-processing\n"
   ]
  },
  {
   "cell_type": "code",
   "execution_count": 3,
   "metadata": {
    "id": "UbpwrxZjYrgv"
   },
   "outputs": [],
   "source": [
    "##IMPORTING THE LIBRARIES\n",
    "import pandas as pd\n",
    "import tensorflow as tf\n",
    "from tensorflow import keras\n",
    "from tensorflow.keras import Sequential\n",
    "from tensorflow.keras.layers import Flatten,Dense\n",
    "from sklearn.preprocessing import LabelEncoder, StandardScaler\n",
    "from sklearn.model_selection import train_test_split\n",
    "import numpy as np\n",
    "import seaborn as sb\n",
    "import matplotlib.pyplot as mp"
   ]
  },
  {
   "cell_type": "code",
   "execution_count": 5,
   "metadata": {
    "id": "0zOHTnz3ZevI"
   },
   "outputs": [],
   "source": [
    "#LOAD THE DATASET\n",
    "dataset = pd.read_csv('E:\\\\AI\\\\drug200.csv')"
   ]
  },
  {
   "cell_type": "markdown",
   "metadata": {
    "id": "1zqYv46vZybl"
   },
   "source": [
    "## Overiew of dataset"
   ]
  },
  {
   "cell_type": "code",
   "execution_count": 6,
   "metadata": {
    "colab": {
     "base_uri": "https://localhost:8080/",
     "height": 206
    },
    "id": "o0deSdfLZoAG",
    "outputId": "e34a0620-5830-4378-fc72-7b84e7352f5a"
   },
   "outputs": [
    {
     "data": {
      "text/html": [
       "<div>\n",
       "<style scoped>\n",
       "    .dataframe tbody tr th:only-of-type {\n",
       "        vertical-align: middle;\n",
       "    }\n",
       "\n",
       "    .dataframe tbody tr th {\n",
       "        vertical-align: top;\n",
       "    }\n",
       "\n",
       "    .dataframe thead th {\n",
       "        text-align: right;\n",
       "    }\n",
       "</style>\n",
       "<table border=\"1\" class=\"dataframe\">\n",
       "  <thead>\n",
       "    <tr style=\"text-align: right;\">\n",
       "      <th></th>\n",
       "      <th>Age</th>\n",
       "      <th>Sex</th>\n",
       "      <th>BP</th>\n",
       "      <th>Cholesterol</th>\n",
       "      <th>Na_to_K</th>\n",
       "      <th>Drug</th>\n",
       "    </tr>\n",
       "  </thead>\n",
       "  <tbody>\n",
       "    <tr>\n",
       "      <th>0</th>\n",
       "      <td>23</td>\n",
       "      <td>F</td>\n",
       "      <td>HIGH</td>\n",
       "      <td>HIGH</td>\n",
       "      <td>25.355</td>\n",
       "      <td>drugY</td>\n",
       "    </tr>\n",
       "    <tr>\n",
       "      <th>1</th>\n",
       "      <td>47</td>\n",
       "      <td>M</td>\n",
       "      <td>LOW</td>\n",
       "      <td>HIGH</td>\n",
       "      <td>13.093</td>\n",
       "      <td>drugC</td>\n",
       "    </tr>\n",
       "    <tr>\n",
       "      <th>2</th>\n",
       "      <td>47</td>\n",
       "      <td>M</td>\n",
       "      <td>LOW</td>\n",
       "      <td>HIGH</td>\n",
       "      <td>10.114</td>\n",
       "      <td>drugC</td>\n",
       "    </tr>\n",
       "    <tr>\n",
       "      <th>3</th>\n",
       "      <td>28</td>\n",
       "      <td>F</td>\n",
       "      <td>NORMAL</td>\n",
       "      <td>HIGH</td>\n",
       "      <td>7.798</td>\n",
       "      <td>drugX</td>\n",
       "    </tr>\n",
       "    <tr>\n",
       "      <th>4</th>\n",
       "      <td>61</td>\n",
       "      <td>F</td>\n",
       "      <td>LOW</td>\n",
       "      <td>HIGH</td>\n",
       "      <td>18.043</td>\n",
       "      <td>drugY</td>\n",
       "    </tr>\n",
       "  </tbody>\n",
       "</table>\n",
       "</div>"
      ],
      "text/plain": [
       "   Age Sex      BP Cholesterol  Na_to_K   Drug\n",
       "0   23   F    HIGH        HIGH   25.355  drugY\n",
       "1   47   M     LOW        HIGH   13.093  drugC\n",
       "2   47   M     LOW        HIGH   10.114  drugC\n",
       "3   28   F  NORMAL        HIGH    7.798  drugX\n",
       "4   61   F     LOW        HIGH   18.043  drugY"
      ]
     },
     "execution_count": 6,
     "metadata": {},
     "output_type": "execute_result"
    }
   ],
   "source": [
    "dataset.head()"
   ]
  },
  {
   "cell_type": "markdown",
   "metadata": {
    "id": "Qq_zu_EJZ7qH"
   },
   "source": [
    "## DATASET PREPROCESSING"
   ]
  },
  {
   "cell_type": "code",
   "execution_count": 7,
   "metadata": {
    "colab": {
     "base_uri": "https://localhost:8080/",
     "height": 0
    },
    "id": "_v_R0wM3Z2Jo",
    "outputId": "a4712ae9-5113-416f-97ee-f33de95fa80f"
   },
   "outputs": [
    {
     "data": {
      "text/plain": [
       "(200, 6)"
      ]
     },
     "execution_count": 7,
     "metadata": {},
     "output_type": "execute_result"
    }
   ],
   "source": [
    "dataset.shape"
   ]
  },
  {
   "cell_type": "markdown",
   "metadata": {
    "id": "_SIql9XqaDnK"
   },
   "source": [
    "## CHECK FOR MISSING VALUES"
   ]
  },
  {
   "cell_type": "code",
   "execution_count": 9,
   "metadata": {
    "colab": {
     "base_uri": "https://localhost:8080/",
     "height": 166
    },
    "id": "AXiGxuhUaIWF",
    "outputId": "26c8aca4-63ed-4f71-ec77-b30bd7378888"
   },
   "outputs": [
    {
     "data": {
      "text/html": [
       "<div>\n",
       "<style scoped>\n",
       "    .dataframe tbody tr th:only-of-type {\n",
       "        vertical-align: middle;\n",
       "    }\n",
       "\n",
       "    .dataframe tbody tr th {\n",
       "        vertical-align: top;\n",
       "    }\n",
       "\n",
       "    .dataframe thead th {\n",
       "        text-align: right;\n",
       "    }\n",
       "</style>\n",
       "<table border=\"1\" class=\"dataframe\">\n",
       "  <thead>\n",
       "    <tr style=\"text-align: right;\">\n",
       "      <th></th>\n",
       "      <th>Age</th>\n",
       "      <th>Sex</th>\n",
       "      <th>BP</th>\n",
       "      <th>Cholesterol</th>\n",
       "      <th>Na_to_K</th>\n",
       "      <th>Drug</th>\n",
       "    </tr>\n",
       "  </thead>\n",
       "  <tbody>\n",
       "    <tr>\n",
       "      <th>0</th>\n",
       "      <td>False</td>\n",
       "      <td>False</td>\n",
       "      <td>False</td>\n",
       "      <td>False</td>\n",
       "      <td>False</td>\n",
       "      <td>False</td>\n",
       "    </tr>\n",
       "    <tr>\n",
       "      <th>1</th>\n",
       "      <td>False</td>\n",
       "      <td>False</td>\n",
       "      <td>False</td>\n",
       "      <td>False</td>\n",
       "      <td>False</td>\n",
       "      <td>False</td>\n",
       "    </tr>\n",
       "    <tr>\n",
       "      <th>2</th>\n",
       "      <td>False</td>\n",
       "      <td>False</td>\n",
       "      <td>False</td>\n",
       "      <td>False</td>\n",
       "      <td>False</td>\n",
       "      <td>False</td>\n",
       "    </tr>\n",
       "    <tr>\n",
       "      <th>3</th>\n",
       "      <td>False</td>\n",
       "      <td>False</td>\n",
       "      <td>False</td>\n",
       "      <td>False</td>\n",
       "      <td>False</td>\n",
       "      <td>False</td>\n",
       "    </tr>\n",
       "    <tr>\n",
       "      <th>4</th>\n",
       "      <td>False</td>\n",
       "      <td>False</td>\n",
       "      <td>False</td>\n",
       "      <td>False</td>\n",
       "      <td>False</td>\n",
       "      <td>False</td>\n",
       "    </tr>\n",
       "    <tr>\n",
       "      <th>...</th>\n",
       "      <td>...</td>\n",
       "      <td>...</td>\n",
       "      <td>...</td>\n",
       "      <td>...</td>\n",
       "      <td>...</td>\n",
       "      <td>...</td>\n",
       "    </tr>\n",
       "    <tr>\n",
       "      <th>195</th>\n",
       "      <td>False</td>\n",
       "      <td>False</td>\n",
       "      <td>False</td>\n",
       "      <td>False</td>\n",
       "      <td>False</td>\n",
       "      <td>False</td>\n",
       "    </tr>\n",
       "    <tr>\n",
       "      <th>196</th>\n",
       "      <td>False</td>\n",
       "      <td>False</td>\n",
       "      <td>False</td>\n",
       "      <td>False</td>\n",
       "      <td>False</td>\n",
       "      <td>False</td>\n",
       "    </tr>\n",
       "    <tr>\n",
       "      <th>197</th>\n",
       "      <td>False</td>\n",
       "      <td>False</td>\n",
       "      <td>False</td>\n",
       "      <td>False</td>\n",
       "      <td>False</td>\n",
       "      <td>False</td>\n",
       "    </tr>\n",
       "    <tr>\n",
       "      <th>198</th>\n",
       "      <td>False</td>\n",
       "      <td>False</td>\n",
       "      <td>False</td>\n",
       "      <td>False</td>\n",
       "      <td>False</td>\n",
       "      <td>False</td>\n",
       "    </tr>\n",
       "    <tr>\n",
       "      <th>199</th>\n",
       "      <td>False</td>\n",
       "      <td>False</td>\n",
       "      <td>False</td>\n",
       "      <td>False</td>\n",
       "      <td>False</td>\n",
       "      <td>False</td>\n",
       "    </tr>\n",
       "  </tbody>\n",
       "</table>\n",
       "<p>200 rows × 6 columns</p>\n",
       "</div>"
      ],
      "text/plain": [
       "       Age    Sex     BP  Cholesterol  Na_to_K   Drug\n",
       "0    False  False  False        False    False  False\n",
       "1    False  False  False        False    False  False\n",
       "2    False  False  False        False    False  False\n",
       "3    False  False  False        False    False  False\n",
       "4    False  False  False        False    False  False\n",
       "..     ...    ...    ...          ...      ...    ...\n",
       "195  False  False  False        False    False  False\n",
       "196  False  False  False        False    False  False\n",
       "197  False  False  False        False    False  False\n",
       "198  False  False  False        False    False  False\n",
       "199  False  False  False        False    False  False\n",
       "\n",
       "[200 rows x 6 columns]"
      ]
     },
     "execution_count": 9,
     "metadata": {},
     "output_type": "execute_result"
    }
   ],
   "source": [
    "dataset.isnull()"
   ]
  },
  {
   "cell_type": "code",
   "execution_count": 10,
   "metadata": {
    "colab": {
     "base_uri": "https://localhost:8080/",
     "height": 0
    },
    "id": "eqPKRo70aiWV",
    "outputId": "569868c1-a4f8-4c9e-81e1-0683099bb805"
   },
   "outputs": [
    {
     "data": {
      "text/plain": [
       "<bound method DataFrame.info of      Age Sex      BP Cholesterol  Na_to_K   Drug\n",
       "0     23   F    HIGH        HIGH   25.355  drugY\n",
       "1     47   M     LOW        HIGH   13.093  drugC\n",
       "2     47   M     LOW        HIGH   10.114  drugC\n",
       "3     28   F  NORMAL        HIGH    7.798  drugX\n",
       "4     61   F     LOW        HIGH   18.043  drugY\n",
       "..   ...  ..     ...         ...      ...    ...\n",
       "195   56   F     LOW        HIGH   11.567  drugC\n",
       "196   16   M     LOW        HIGH   12.006  drugC\n",
       "197   52   M  NORMAL        HIGH    9.894  drugX\n",
       "198   23   M  NORMAL      NORMAL   14.020  drugX\n",
       "199   40   F     LOW      NORMAL   11.349  drugX\n",
       "\n",
       "[200 rows x 6 columns]>"
      ]
     },
     "execution_count": 10,
     "metadata": {},
     "output_type": "execute_result"
    }
   ],
   "source": [
    "#Dataset information\n",
    "dataset.info"
   ]
  },
  {
   "cell_type": "code",
   "execution_count": 11,
   "metadata": {
    "colab": {
     "base_uri": "https://localhost:8080/",
     "height": 0
    },
    "id": "GG8-9wY6apa-",
    "outputId": "d457ec1b-3596-4ea7-b3af-b0a7ee9a26b6"
   },
   "outputs": [
    {
     "data": {
      "text/plain": [
       "<bound method NDFrame.describe of      Age Sex      BP Cholesterol  Na_to_K   Drug\n",
       "0     23   F    HIGH        HIGH   25.355  drugY\n",
       "1     47   M     LOW        HIGH   13.093  drugC\n",
       "2     47   M     LOW        HIGH   10.114  drugC\n",
       "3     28   F  NORMAL        HIGH    7.798  drugX\n",
       "4     61   F     LOW        HIGH   18.043  drugY\n",
       "..   ...  ..     ...         ...      ...    ...\n",
       "195   56   F     LOW        HIGH   11.567  drugC\n",
       "196   16   M     LOW        HIGH   12.006  drugC\n",
       "197   52   M  NORMAL        HIGH    9.894  drugX\n",
       "198   23   M  NORMAL      NORMAL   14.020  drugX\n",
       "199   40   F     LOW      NORMAL   11.349  drugX\n",
       "\n",
       "[200 rows x 6 columns]>"
      ]
     },
     "execution_count": 11,
     "metadata": {},
     "output_type": "execute_result"
    }
   ],
   "source": [
    "#check for statistical info\n",
    "dataset.describe"
   ]
  },
  {
   "cell_type": "markdown",
   "metadata": {
    "id": "fkk5ybpucqUR"
   },
   "source": [
    "Visualize in the Graph forms"
   ]
  },
  {
   "cell_type": "code",
   "execution_count": 12,
   "metadata": {
    "colab": {
     "base_uri": "https://localhost:8080/",
     "height": 466
    },
    "id": "T8lziGTsctn4",
    "outputId": "4ace875d-77e5-4c59-bfdb-c421901b9844"
   },
   "outputs": [
    {
     "data": {
      "text/plain": [
       "<AxesSubplot:xlabel='Drug', ylabel='count'>"
      ]
     },
     "execution_count": 12,
     "metadata": {},
     "output_type": "execute_result"
    },
    {
     "data": {
      "image/png": "[encoded data removed]",
      "text/plain": [
       "<Figure size 640x480 with 1 Axes>"
      ]
     },
     "metadata": {},
     "output_type": "display_data"
    }
   ],
   "source": [
    "sb.countplot(x='Drug',data=dataset,hue='Drug')"
   ]
  },
  {
   "cell_type": "code",
   "execution_count": 13,
   "metadata": {
    "colab": {
     "base_uri": "https://localhost:8080/",
     "height": 466
    },
    "id": "g2mStPzGcyFj",
    "outputId": "c4ec0869-16c6-4d1c-915f-83ae78dfd5ce"
   },
   "outputs": [
    {
     "data": {
      "text/plain": [
       "<AxesSubplot:xlabel='Sex', ylabel='count'>"
      ]
     },
     "execution_count": 13,
     "metadata": {},
     "output_type": "execute_result"
    },
    {
     "data": {
      "image/png": "[encoded data removed]",
      "text/plain": [
       "<Figure size 640x480 with 1 Axes>"
      ]
     },
     "metadata": {},
     "output_type": "display_data"
    }
   ],
   "source": [
    "sb.countplot(x='Sex',data=dataset,palette='crest',hue='Sex')"
   ]
  },
  {
   "cell_type": "code",
   "execution_count": 14,
   "metadata": {
    "colab": {
     "base_uri": "https://localhost:8080/",
     "height": 468
    },
    "id": "NpbQ7pxvc01L",
    "outputId": "d6e221d9-86d0-4c37-f615-a1a822c1fc55"
   },
   "outputs": [
    {
     "data": {
      "text/plain": [
       "<AxesSubplot:xlabel='BP', ylabel='count'>"
      ]
     },
     "execution_count": 14,
     "metadata": {},
     "output_type": "execute_result"
    },
    {
     "data": {
      "image/png": "[encoded data removed]",
      "text/plain": [
       "<Figure size 640x480 with 1 Axes>"
      ]
     },
     "metadata": {},
     "output_type": "display_data"
    }
   ],
   "source": [
    "sb.countplot(x='BP',data=dataset,hue='BP')"
   ]
  },
  {
   "cell_type": "code",
   "execution_count": 15,
   "metadata": {
    "colab": {
     "base_uri": "https://localhost:8080/",
     "height": 466
    },
    "id": "wXYsNN8Ec5gw",
    "outputId": "8e7b6820-fb48-4703-d007-204ae9a9e877"
   },
   "outputs": [
    {
     "data": {
      "text/plain": [
       "<AxesSubplot:xlabel='Na_to_K', ylabel='Count'>"
      ]
     },
     "execution_count": 15,
     "metadata": {},
     "output_type": "execute_result"
    },
    {
     "data": {
      "image/png": "[encoded data removed]",
      "text/plain": [
       "<Figure size 640x480 with 1 Axes>"
      ]
     },
     "metadata": {},
     "output_type": "display_data"
    }
   ],
   "source": [
    "sb.histplot(x='Na_to_K',data=dataset)"
   ]
  },
  {
   "cell_type": "markdown",
   "metadata": {
    "id": "irW04Tn0c9RL"
   },
   "source": [
    "Segregate the data into train & test"
   ]
  },
  {
   "cell_type": "code",
   "execution_count": 16,
   "metadata": {
    "id": "6WHqX_nmawLx"
   },
   "outputs": [],
   "source": [
    "#segregate the data into the train & test\n",
    "X = dataset.drop(columns = ['Drug'],axis=1)\n",
    "Y = dataset['Drug']"
   ]
  },
  {
   "cell_type": "code",
   "execution_count": 17,
   "metadata": {
    "colab": {
     "base_uri": "https://localhost:8080/",
     "height": 0
    },
    "id": "HLGRGG8tbexD",
    "outputId": "0c60a113-c719-4702-d442-b6ae512ac8eb"
   },
   "outputs": [
    {
     "name": "stdout",
     "output_type": "stream",
     "text": [
      "5\n"
     ]
    }
   ],
   "source": [
    "#Drug column is the output(target) column in this dataset.\n",
    "\n",
    "Y_class = len(np.unique(Y))\n",
    "print(Y_class)"
   ]
  },
  {
   "cell_type": "markdown",
   "metadata": {
    "id": "cG8d-U55bknJ"
   },
   "source": [
    "Convert the Categorical data into interger data¶\n"
   ]
  },
  {
   "cell_type": "code",
   "execution_count": 18,
   "metadata": {
    "id": "N2DKteYkblKN"
   },
   "outputs": [],
   "source": [
    "X = pd.get_dummies(X,columns=['Sex','BP','Cholesterol'],drop_first = True)\n",
    "\n",
    "LE = LabelEncoder()\n",
    "Y = LE.fit_transform(Y)"
   ]
  },
  {
   "cell_type": "code",
   "execution_count": 19,
   "metadata": {
    "id": "KETuZbjgborI"
   },
   "outputs": [],
   "source": [
    "X_train, X_test, Y_train, Y_test = train_test_split (X,Y,test_size=0.3,random_state=2)"
   ]
  },
  {
   "cell_type": "markdown",
   "metadata": {
    "id": "i-0nWudWb1R5"
   },
   "source": [
    "Feature Scaling\n"
   ]
  },
  {
   "cell_type": "code",
   "execution_count": 20,
   "metadata": {
    "id": "GSsZrBu6b3Xr"
   },
   "outputs": [],
   "source": [
    "from sklearn.preprocessing import StandardScaler\n",
    "sc = StandardScaler()\n",
    "X_train = sc.fit_transform(X_train)\n",
    "X_test = sc.fit_transform(X_test)"
   ]
  },
  {
   "cell_type": "code",
   "execution_count": 21,
   "metadata": {
    "id": "3S7AGoMMb6UK"
   },
   "outputs": [],
   "source": [
    "Y_train = keras.utils.to_categorical(Y_train)\n",
    "Y_test = keras.utils.to_categorical(Y_test)"
   ]
  },
  {
   "cell_type": "markdown",
   "metadata": {
    "id": "lgIbsOs7dKTC"
   },
   "source": [
    "Task 2: Build the ANN model with (input layer, min 3 hidden layers & output layer)"
   ]
  },
  {
   "cell_type": "markdown",
   "metadata": {
    "id": "VgFGGj68cAL4"
   },
   "source": [
    "create a model\n"
   ]
  },
  {
   "cell_type": "code",
   "execution_count": 22,
   "metadata": {
    "id": "rI98KaxVcAo3"
   },
   "outputs": [],
   "source": [
    "model = Sequential()\n",
    "model.add(Dense(48, input_dim=6, activation='relu'))\n",
    "model.add(Dense(36, activation='relu'))\n",
    "model.add(Dense(24, activation='relu'))\n",
    "model.add(Dense(12, activation='relu'))\n",
    "output_layer = Dense(Y_class,activation='softmax')\n",
    "model.add(output_layer)"
   ]
  },
  {
   "cell_type": "code",
   "execution_count": 23,
   "metadata": {
    "colab": {
     "base_uri": "https://localhost:8080/",
     "height": 0
    },
    "id": "pwhIFchFcG_G",
    "outputId": "3f8579bc-a444-4b6d-aa45-403b2c0cf9b7"
   },
   "outputs": [
    {
     "name": "stdout",
     "output_type": "stream",
     "text": [
      "Model: \"sequential\"\n",
      "_________________________________________________________________\n",
      " Layer (type)                Output Shape              Param #   \n",
      "=================================================================\n",
      " dense (Dense)               (None, 48)                336       \n",
      "                                                                 \n",
      " dense_1 (Dense)             (None, 36)                1764      \n",
      "                                                                 \n",
      " dense_2 (Dense)             (None, 24)                888       \n",
      "                                                                 \n",
      " dense_3 (Dense)             (None, 12)                300       \n",
      "                                                                 \n",
      " dense_4 (Dense)             (None, 5)                 65        \n",
      "                                                                 \n",
      "=================================================================\n",
      "Total params: 3,353\n",
      "Trainable params: 3,353\n",
      "Non-trainable params: 0\n",
      "_________________________________________________________________\n"
     ]
    }
   ],
   "source": [
    "model.summary()\n"
   ]
  },
  {
   "cell_type": "markdown",
   "metadata": {
    "id": "LrkmUCSncLNs"
   },
   "source": [
    "compile the model\n"
   ]
  },
  {
   "cell_type": "code",
   "execution_count": 24,
   "metadata": {
    "id": "TX5HZhd1cM9N"
   },
   "outputs": [],
   "source": [
    "model.compile(loss='categorical_crossentropy', optimizer='adam', metrics=['accuracy'])"
   ]
  },
  {
   "cell_type": "markdown",
   "metadata": {
    "id": "2y56X9dicRfm"
   },
   "source": [
    "train the model\n"
   ]
  },
  {
   "cell_type": "code",
   "execution_count": 25,
   "metadata": {
    "colab": {
     "base_uri": "https://localhost:8080/",
     "height": 0
    },
    "id": "ot79e5iBcT_V",
    "outputId": "4b62e19a-0410-4455-e4a8-1dfab9d6f604"
   },
   "outputs": [
    {
     "name": "stdout",
     "output_type": "stream",
     "text": [
      "Epoch 1/48\n",
      "24/24 [==============================] - 1s 2ms/step - loss: 1.6519 - accuracy: 0.2000\n",
      "Epoch 2/48\n",
      "24/24 [==============================] - 0s 2ms/step - loss: 1.5241 - accuracy: 0.6000\n",
      "Epoch 3/48\n",
      "24/24 [==============================] - 0s 2ms/step - loss: 1.3940 - accuracy: 0.6286\n",
      "Epoch 4/48\n",
      "24/24 [==============================] - 0s 2ms/step - loss: 1.1631 - accuracy: 0.6500\n",
      "Epoch 5/48\n",
      "24/24 [==============================] - 0s 1ms/step - loss: 0.9151 - accuracy: 0.6857\n",
      "Epoch 6/48\n",
      "24/24 [==============================] - 0s 2ms/step - loss: 0.7460 - accuracy: 0.6857\n",
      "Epoch 7/48\n",
      "24/24 [==============================] - 0s 2ms/step - loss: 0.6345 - accuracy: 0.7286\n",
      "Epoch 8/48\n",
      "24/24 [==============================] - 0s 2ms/step - loss: 0.5276 - accuracy: 0.8000\n",
      "Epoch 9/48\n",
      "24/24 [==============================] - 0s 3ms/step - loss: 0.4205 - accuracy: 0.9000\n",
      "Epoch 10/48\n",
      "24/24 [==============================] - 0s 2ms/step - loss: 0.3133 - accuracy: 0.9429\n",
      "Epoch 11/48\n",
      "24/24 [==============================] - 0s 2ms/step - loss: 0.2366 - accuracy: 0.9714\n",
      "Epoch 12/48\n",
      "24/24 [==============================] - 0s 2ms/step - loss: 0.1651 - accuracy: 0.9929\n",
      "Epoch 13/48\n",
      "24/24 [==============================] - 0s 1ms/step - loss: 0.1166 - accuracy: 0.9857\n",
      "Epoch 14/48\n",
      "24/24 [==============================] - 0s 2ms/step - loss: 0.0860 - accuracy: 0.9857\n",
      "Epoch 15/48\n",
      "24/24 [==============================] - 0s 1ms/step - loss: 0.0654 - accuracy: 0.9929\n",
      "Epoch 16/48\n",
      "24/24 [==============================] - 0s 1ms/step - loss: 0.0550 - accuracy: 0.9929\n",
      "Epoch 17/48\n",
      "24/24 [==============================] - 0s 2ms/step - loss: 0.0459 - accuracy: 1.0000\n",
      "Epoch 18/48\n",
      "24/24 [==============================] - 0s 1ms/step - loss: 0.0378 - accuracy: 1.0000\n",
      "Epoch 19/48\n",
      "24/24 [==============================] - 0s 1ms/step - loss: 0.0339 - accuracy: 1.0000\n",
      "Epoch 20/48\n",
      "24/24 [==============================] - 0s 2ms/step - loss: 0.0266 - accuracy: 1.0000\n",
      "Epoch 21/48\n",
      "24/24 [==============================] - 0s 2ms/step - loss: 0.0234 - accuracy: 1.0000\n",
      "Epoch 22/48\n",
      "24/24 [==============================] - 0s 1ms/step - loss: 0.0276 - accuracy: 0.9929\n",
      "Epoch 23/48\n",
      "24/24 [==============================] - 0s 1ms/step - loss: 0.0194 - accuracy: 1.0000\n",
      "Epoch 24/48\n",
      "24/24 [==============================] - 0s 2ms/step - loss: 0.0162 - accuracy: 1.0000\n",
      "Epoch 25/48\n",
      "24/24 [==============================] - 0s 1ms/step - loss: 0.0140 - accuracy: 1.0000\n",
      "Epoch 26/48\n",
      "24/24 [==============================] - 0s 2ms/step - loss: 0.0123 - accuracy: 1.0000\n",
      "Epoch 27/48\n",
      "24/24 [==============================] - 0s 1ms/step - loss: 0.0110 - accuracy: 1.0000\n",
      "Epoch 28/48\n",
      "24/24 [==============================] - 0s 1ms/step - loss: 0.0105 - accuracy: 1.0000\n",
      "Epoch 29/48\n",
      "24/24 [==============================] - 0s 1ms/step - loss: 0.0103 - accuracy: 1.0000\n",
      "Epoch 30/48\n",
      "24/24 [==============================] - 0s 2ms/step - loss: 0.0086 - accuracy: 1.0000\n",
      "Epoch 31/48\n",
      "24/24 [==============================] - 0s 2ms/step - loss: 0.0081 - accuracy: 1.0000\n",
      "Epoch 32/48\n",
      "24/24 [==============================] - 0s 2ms/step - loss: 0.0069 - accuracy: 1.0000\n",
      "Epoch 33/48\n",
      "24/24 [==============================] - 0s 2ms/step - loss: 0.0070 - accuracy: 1.0000\n",
      "Epoch 34/48\n",
      "24/24 [==============================] - 0s 3ms/step - loss: 0.0063 - accuracy: 1.0000\n",
      "Epoch 35/48\n",
      "24/24 [==============================] - 0s 2ms/step - loss: 0.0060 - accuracy: 1.0000\n",
      "Epoch 36/48\n",
      "24/24 [==============================] - 0s 2ms/step - loss: 0.0055 - accuracy: 1.0000\n",
      "Epoch 37/48\n",
      "24/24 [==============================] - 0s 2ms/step - loss: 0.0049 - accuracy: 1.0000\n",
      "Epoch 38/48\n",
      "24/24 [==============================] - 0s 2ms/step - loss: 0.0047 - accuracy: 1.0000\n",
      "Epoch 39/48\n",
      "24/24 [==============================] - 0s 1ms/step - loss: 0.0050 - accuracy: 1.0000\n",
      "Epoch 40/48\n",
      "24/24 [==============================] - 0s 2ms/step - loss: 0.0054 - accuracy: 1.0000\n",
      "Epoch 41/48\n",
      "24/24 [==============================] - 0s 2ms/step - loss: 0.0038 - accuracy: 1.0000\n",
      "Epoch 42/48\n",
      "24/24 [==============================] - 0s 2ms/step - loss: 0.0033 - accuracy: 1.0000\n",
      "Epoch 43/48\n",
      "24/24 [==============================] - 0s 2ms/step - loss: 0.0050 - accuracy: 1.0000\n",
      "Epoch 44/48\n",
      "24/24 [==============================] - 0s 2ms/step - loss: 0.0036 - accuracy: 1.0000\n",
      "Epoch 45/48\n",
      "24/24 [==============================] - 0s 2ms/step - loss: 0.0034 - accuracy: 1.0000\n",
      "Epoch 46/48\n",
      "24/24 [==============================] - 0s 2ms/step - loss: 0.0026 - accuracy: 1.0000\n",
      "Epoch 47/48\n",
      "24/24 [==============================] - 0s 2ms/step - loss: 0.0025 - accuracy: 1.0000\n",
      "Epoch 48/48\n",
      "24/24 [==============================] - 0s 2ms/step - loss: 0.0024 - accuracy: 1.0000\n"
     ]
    },
    {
     "data": {
      "text/plain": [
       "<keras.callbacks.History at 0x2956413cd90>"
      ]
     },
     "execution_count": 25,
     "metadata": {},
     "output_type": "execute_result"
    }
   ],
   "source": [
    "model.fit(X_train,Y_train,epochs=48,batch_size=6)\n"
   ]
  },
  {
   "cell_type": "markdown",
   "metadata": {
    "id": "J7LsVeincbGc"
   },
   "source": [
    "evaluate the model on the test set"
   ]
  },
  {
   "cell_type": "code",
   "execution_count": 26,
   "metadata": {
    "colab": {
     "base_uri": "https://localhost:8080/",
     "height": 0
    },
    "id": "-EPdhRNXcbka",
    "outputId": "f8c0bbe0-d7ca-4691-ee16-74be2917b1a0"
   },
   "outputs": [
    {
     "name": "stdout",
     "output_type": "stream",
     "text": [
      "2/2 [==============================] - 0s 0s/step - loss: 0.5697 - accuracy: 0.8500\n",
      "Test accuracy: 85.00000238418579\n"
     ]
    }
   ],
   "source": [
    "test_loss, test_acc = model.evaluate(X_test, Y_test)\n",
    "print('Test accuracy:', test_acc * 100)"
   ]
  },
  {
   "cell_type": "code",
   "execution_count": null,
   "metadata": {},
   "outputs": [],
   "source": []
  },
  {
   "cell_type": "code",
   "execution_count": null,
   "metadata": {},
   "outputs": [],
   "source": []
  }
 ],
 "metadata": {
  "colab": {
   "provenance": []
  },
  "kernelspec": {
   "display_name": "Python 3 (ipykernel)",
   "language": "python",
   "name": "python3"
  },
  "language_info": {
   "codemirror_mode": {
    "name": "ipython",
    "version": 3
   },
   "file_extension": ".py",
   "mimetype": "text/x-python",
   "name": "python",
   "nbconvert_exporter": "python",
   "pygments_lexer": "ipython3",
   "version": "3.9.13"
  }
 },
 "nbformat": 4,
 "nbformat_minor": 1
}
